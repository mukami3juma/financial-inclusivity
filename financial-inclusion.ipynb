{
 "cells": [
  {
   "cell_type": "markdown",
   "source": [
    "Financial Inclusion remains one of the main obstacles to economic and human development in Africa. For example, across Kenya, Rwanda, Tanzania, and Uganda only 9.1 million adults (or 13.9% of the adult population) have access to or use a commercial bank account.\r\n",
    "\r\n",
    "Traditionally, access to bank accounts has been regarded as an indicator of financial inclusion. Despite the proliferation of mobile money in Africa and the growth of innovative fintech solutions, banks still play a pivotal role in facilitating access to financial services. Access to bank accounts enables households to save and facilitate payments while also helping businesses build up their credit-worthiness and improve their access to other financial services. Therefore, access to bank accounts is an essential contributor to long-term economic growth.\r\n",
    "\r\n",
    "The research problem is to figure out how we can predict which individuals are most likely to have or use a bank account. Your solution will help provide an indication of the state of financial inclusion in Kenya, Rwanda, Tanzania, and Uganda, while providing insights into some of the key demographic factors that might drive individuals’ financial outcomes.\r\n",
    "\r\n",
    "In order to work on the above problem, you need to do the following:\r\n",
    "\r\n",
    "a) Define the question, the metric for success, the context, experimental design taken and the appropriateness of the available data to answer the given question\r\n",
    "b) Find and deal with outliers, anomalies, and missing data within the dataset.\r\n",
    "c) Perform univariate, bivariate and multivariate analysis recording your observations.\r\n",
    "d) Implement the solution by performing the respective analysis i.e. factor analysis, principal component analysis, and discriminant analysis.\r\n",
    "e) Challenge your solution by providing insights on how you can make improvements."
   ],
   "metadata": {}
  },
  {
   "cell_type": "markdown",
   "source": [
    "1. DEFINING THE QUESTION\r\n",
    "\r\n"
   ],
   "metadata": {}
  },
  {
   "cell_type": "markdown",
   "source": [
    " a.) Specifying the question\r\n",
    "\r\n",
    "How to predict which individuals are most likely to have or use a bank account. \r\n",
    "\r\n",
    "Your solution will help provide an indication of the state of financial inclusion in Kenya, Rwanda, Tanzania, and Uganda, while providing insights into some of the key demographic factors that might drive individuals’ financial outcomes."
   ],
   "metadata": {}
  },
  {
   "cell_type": "markdown",
   "source": [
    "b.) Defining the metric for success"
   ],
   "metadata": {}
  },
  {
   "cell_type": "markdown",
   "source": [
    "c.) Understanding the context"
   ],
   "metadata": {}
  },
  {
   "cell_type": "markdown",
   "source": [
    "d.) Recording the experimental design"
   ],
   "metadata": {}
  },
  {
   "cell_type": "markdown",
   "source": [
    "e.) Data relevance"
   ],
   "metadata": {}
  }
 ],
 "metadata": {
  "orig_nbformat": 4,
  "language_info": {
   "name": "python"
  }
 },
 "nbformat": 4,
 "nbformat_minor": 2
}